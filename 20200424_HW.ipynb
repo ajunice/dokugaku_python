{
  "nbformat": 4,
  "nbformat_minor": 0,
  "metadata": {
    "colab": {
      "name": "20200424_HW.ipynb",
      "provenance": [],
      "collapsed_sections": [],
      "authorship_tag": "ABX9TyMwe3mepdPcS3hgjFe1TPYd",
      "include_colab_link": true
    },
    "kernelspec": {
      "name": "python3",
      "display_name": "Python 3"
    }
  },
  "cells": [
    {
      "cell_type": "markdown",
      "metadata": {
        "id": "view-in-github",
        "colab_type": "text"
      },
      "source": [
        "<a href=\"https://colab.research.google.com/github/ajunice/dokugaku_python/blob/master/20200424_HW.ipynb\" target=\"_parent\"><img src=\"https://colab.research.google.com/assets/colab-badge.svg\" alt=\"Open In Colab\"/></a>"
      ]
    },
    {
      "cell_type": "code",
      "metadata": {
        "id": "KjbFBTUAqpBu",
        "colab_type": "code",
        "colab": {
          "base_uri": "https://localhost:8080/",
          "height": 340
        },
        "outputId": "7f195103-bc79-4b48-f5c4-f1bc642bff53"
      },
      "source": [
        "n = int(input(\"숫자를 입력하세요: \"))\n",
        "\n",
        "def print_triangle(n):\n",
        "  for i in range(1, n+1): \n",
        "    for y in range(i): \n",
        "      print(\"*\", end=\"\")\n",
        "    print()\n",
        "print(\"1. 왼쪽 정렬 삼각형\")\n",
        "print_triangle(n)\n",
        "\n",
        "def print_reversed_triangles(n):\n",
        "  for i in range(1, n+1):\n",
        "    for j in range(n-i): \n",
        "      print(\" \", end=\"\")\n",
        "    for j in range(i): \n",
        "      print(\"*\", end=\"\")\n",
        "    print()\n",
        "print(\"2. 오른쪽 정렬 삼각형\")\n",
        "print_reversed_triangles(n)\n",
        "\n",
        "def print_tree(n):\n",
        "  for i in range(1, n+1):\n",
        "    for j in range(n+1-i): \n",
        "      print(\" \", end=\"\")\n",
        "    for j in range(2*i-1): \n",
        "      print(\"*\", end=\"\")\n",
        "    print()\n",
        "print(\"3. 가운데 정렬 삼각형\")\n",
        "print_tree(n)\n",
        "\n",
        "def print_diamond(n):\n",
        "  for i in range(1, n+1):\n",
        "    print(' ' * (n - i) + '*' * (2 * i - 1)) \n",
        "  if n == i:\n",
        "    for i in range(n-1, 0, -1):\n",
        "      print(' ' * (n - i) + '*' * (2 * i - 1))\n",
        "print(\"4. 다이아몬드\")\n",
        "print_diamond(n)\n"
      ],
      "execution_count": 41,
      "outputs": [
        {
          "output_type": "stream",
          "text": [
            "숫자를 입력하세요: 3\n",
            "1. 왼쪽 정렬 삼각형\n",
            "*\n",
            "**\n",
            "***\n",
            "2. 오른쪽 정렬 삼각형\n",
            "  *\n",
            " **\n",
            "***\n",
            "3. 가운데 정렬 삼각형\n",
            "   *\n",
            "  ***\n",
            " *****\n",
            "4. 다이아몬드\n",
            "  *\n",
            " ***\n",
            "*****\n",
            " ***\n",
            "  *\n"
          ],
          "name": "stdout"
        }
      ]
    }
  ]
}